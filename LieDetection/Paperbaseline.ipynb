{
  "cells": [
    {
      "cell_type": "code",
      "execution_count": 1,
      "metadata": {
        "colab": {
          "base_uri": "https://localhost:8080/"
        },
        "id": "2Pb31EJImM8C",
        "outputId": "175ab433-c184-4d10-e5da-74a7bc474e3b"
      },
      "outputs": [
        {
          "output_type": "stream",
          "name": "stdout",
          "text": [
            "Requirement already satisfied: numba in /usr/local/lib/python3.10/dist-packages (0.56.4)\n",
            "Requirement already satisfied: llvmlite<0.40,>=0.39.0dev0 in /usr/local/lib/python3.10/dist-packages (from numba) (0.39.1)\n",
            "Requirement already satisfied: numpy<1.24,>=1.18 in /usr/local/lib/python3.10/dist-packages (from numba) (1.23.5)\n",
            "Requirement already satisfied: setuptools in /usr/local/lib/python3.10/dist-packages (from numba) (67.7.2)\n"
          ]
        }
      ],
      "source": [
        "\n",
        "!pip install numba"
      ]
    },
    {
      "cell_type": "code",
      "execution_count": 2,
      "metadata": {
        "id": "oy5_QSJgjm9V"
      },
      "outputs": [],
      "source": [
        "import pandas as pd\n",
        "import numpy as np"
      ]
    },
    {
      "cell_type": "code",
      "execution_count": 38,
      "metadata": {
        "id": "43AGHtXpvt7v"
      },
      "outputs": [],
      "source": [
        "from numba import cuda\n",
        "import pandas as pd\n",
        "import numpy as np\n",
        "from tqdm import tqdm\n",
        "import gc\n",
        "\n",
        "from torch.optim import AdamW\n",
        "import torch.cuda\n",
        "from google.colab import runtime\n",
        "import warnings\n",
        "from sklearn.feature_extraction.text import CountVectorizer\n",
        "from sklearn.linear_model import LogisticRegression"
      ]
    },
    {
      "cell_type": "markdown",
      "metadata": {
        "id": "DTHgkznFOQ2e"
      },
      "source": [
        "# Preprocessing"
      ]
    },
    {
      "cell_type": "code",
      "execution_count": 95,
      "metadata": {
        "id": "BI70F06RVwc5"
      },
      "outputs": [],
      "source": [
        "dc = pd.read_csv('/content/DecOp_data_EN_500.csv', sep=';', encoding = \"ISO-8859-1\")\n",
        "dc.head()\n",
        "\n",
        "d1 = []\n",
        "for i in range(dc.shape[0]):\n",
        "  row = dc.iloc[i]\n",
        "  d1.append({'ID': row['ID'],\n",
        "      'age' :row['age'], 'gender': row['gender'],\n",
        "  'sent' : row['A'].replace('\\n', \" \") ,\n",
        "  'labels'  : row['GT.A']})\n",
        "\n",
        "  d1.append({'ID': row['ID'],\n",
        "      'age' :row['age'], 'gender': row['gender'],\n",
        "  'sent' : row['E'].replace('\\n', \" \")  ,\n",
        "  'labels'  : row['GT.E']})\n",
        "  d1.append({'ID': row['ID'],\n",
        "      'age' :row['age'], 'gender': row['gender'],\n",
        "  'sent' : row['GM'].replace('\\n', \" \")  ,\n",
        "  'labels'  : row['GT.GM']})\n",
        "\n",
        "  d1.append({'ID': row['ID'],\n",
        "      'age' :row['age'], 'gender': row['gender'],\n",
        "  'sent' : row['Pom'].replace('\\n', \" \")  ,\n",
        "  'labels'  : row['GT.Pom']})\n",
        "\n",
        "  d1.append({'ID': row['ID'],\n",
        "      'age' :row['age'], 'gender': row['gender'],\n",
        "  'sent' : row['CL'].replace('\\n', \" \")  ,\n",
        "  'labels'  : row['GT.CL']})\n",
        "\n",
        "decop = pd.DataFrame.from_records(d1)\n",
        "\n",
        "decop=decop[['ID', 'sent', 'labels']]\n",
        "decop['type']='A'"
      ]
    },
    {
      "cell_type": "code",
      "execution_count": 96,
      "metadata": {
        "id": "qLI3Bdhg7M9G"
      },
      "outputs": [],
      "source": [
        "hc = pd.read_csv('/content/preprocessed_hcV3.csv', sep=';', encoding = \"ISO-8859-1\")\n",
        "\n",
        "mem = hc[hc['memType']!='retold']\n",
        "mem = mem.dropna(subset=['story', 'memType'])\n",
        "mem = mem[['story', 'memType']]\n",
        "mem['memType'][mem['memType']=='recalled']='T'\n",
        "mem['memType'][mem['memType']=='imagined']='F'\n",
        "mem = mem.rename(columns={'story': 'sent', 'memType': 'labels'})\n",
        "mem['type']='B'"
      ]
    },
    {
      "cell_type": "code",
      "execution_count": 97,
      "metadata": {
        "colab": {
          "base_uri": "https://localhost:8080/"
        },
        "id": "gOulAJgx7acQ",
        "outputId": "22edf442-7a25-4f22-9d59-bf82ae9498d9"
      },
      "outputs": [
        {
          "output_type": "stream",
          "name": "stderr",
          "text": [
            "<ipython-input-97-ba4812cfd6fa>:4: SettingWithCopyWarning: \n",
            "A value is trying to be set on a copy of a slice from a DataFrame\n",
            "\n",
            "See the caveats in the documentation: https://pandas.pydata.org/pandas-docs/stable/user_guide/indexing.html#returning-a-view-versus-a-copy\n",
            "  intent['outcome_class'][intent['outcome_class']=='t']='T'\n",
            "<ipython-input-97-ba4812cfd6fa>:5: SettingWithCopyWarning: \n",
            "A value is trying to be set on a copy of a slice from a DataFrame\n",
            "\n",
            "See the caveats in the documentation: https://pandas.pydata.org/pandas-docs/stable/user_guide/indexing.html#returning-a-view-versus-a-copy\n",
            "  intent['outcome_class'][intent['outcome_class']=='d']='F'\n"
          ]
        }
      ],
      "source": [
        "intent = pd.read_csv('/content/sign_events_data_statements.csv', encoding = \"ISO-8859-1\")\n",
        "\n",
        "\n",
        "intent['outcome_class'][intent['outcome_class']=='t']='T'\n",
        "intent['outcome_class'][intent['outcome_class']=='d']='F'\n",
        "intent['q1']=intent['q1'].apply(lambda x: x.replace('\\n', ''))\n",
        "intent = intent.rename(columns={'q1': 'sent', 'outcome_class': 'labels'})\n",
        "intent = intent[['sent', 'labels']]\n",
        "intent['type']='C'"
      ]
    },
    {
      "cell_type": "code",
      "execution_count": 98,
      "metadata": {
        "id": "e7DNHeM9VXWp"
      },
      "outputs": [],
      "source": [
        "def create_dataset(Scenario = {'train':[], 'test':[], 'scenario':1}, decop=None, mem = None, intent = None, seed=42, cv=10):\n",
        "\n",
        "  train={f'split_{i+1}':[] for i in range(cv)}\n",
        "  test={f'split_{i+1}':[] for i in range(cv)}\n",
        "\n",
        "  np.random.seed(seed)\n",
        "\n",
        "  de_arr = np.arange(1, 501)\n",
        "  np.random.shuffle(de_arr)\n",
        "  de_arr_r = de_arr.reshape((cv, int(500/cv)))\n",
        "\n",
        "  num_row = (mem.index.shape[0] - (mem.shape[0]%cv))\n",
        "  me_arr = np.random.choice(mem.index.shape[0], int(num_row), replace=False)\n",
        "  me_arr_r = me_arr.reshape((cv, int(num_row/cv)))\n",
        "\n",
        "  in_arr = np.arange(0, intent.index.shape[0])\n",
        "  np.random.shuffle(in_arr)\n",
        "  in_arr_r = in_arr.reshape((cv, int(intent.shape[0]/cv))) ### fin qui testata\n",
        "\n",
        "  cv_ind = 0\n",
        "  for k in train.keys():\n",
        "\n",
        "\n",
        "\n",
        "    if Scenario['scenario'] == 1 or Scenario['scenario'] == 3:\n",
        "\n",
        "      if 'decop' in Scenario['train']:\n",
        "        ind = de_arr_r[cv_ind,:]\n",
        "        antind = [i for i in de_arr if i not in ind]\n",
        "\n",
        "        decop_train = decop[decop['ID'].isin(antind)]\n",
        "        decop_test = decop[decop['ID'].isin(ind)]\n",
        "\n",
        "        train[k].append(decop_train)\n",
        "        test[k].append(decop_test)\n",
        "\n",
        "      if 'hyppocorpus' in Scenario['train']:\n",
        "        ind = me_arr_r[cv_ind,:]\n",
        "        antind = [i for i in me_arr if i not in ind]\n",
        "\n",
        "        mem_train = mem[mem.index.isin(antind)]\n",
        "        mem_test = mem[mem.index.isin(ind)]\n",
        "\n",
        "        train[k].append(mem_train)\n",
        "        test[k].append(mem_test)\n",
        "\n",
        "      if 'intention' in Scenario['train']:\n",
        "\n",
        "        ind = in_arr_r[cv_ind,:]\n",
        "        antind = [i for i in in_arr if i not in ind]\n",
        "\n",
        "        intent_train = intent[intent.index.isin(antind)]\n",
        "        intent_test = intent[intent.index.isin(ind)]\n",
        "\n",
        "        train[k].append(intent_train)\n",
        "        test[k].append(intent_test)\n",
        "\n",
        "      train[k] = pd.concat(train[k])\n",
        "      test[k] = pd.concat(test[k])\n",
        "\n",
        "    else:\n",
        "\n",
        "      if 'decop' in Scenario['train']:\n",
        "        train[k].append(decop.copy())\n",
        "      elif 'decop' in Scenario['test']:\n",
        "        test[k].append(decop.copy())\n",
        "\n",
        "      if 'hyppocorpus' in Scenario['train']:\n",
        "        train[k].append(mem.copy())\n",
        "      elif 'hyppocorpus' in Scenario['test']:\n",
        "        test[k].append(mem.copy())\n",
        "\n",
        "      if 'intention' in Scenario['train']:\n",
        "        train[k].append(intent.copy())\n",
        "      elif 'intention' in Scenario['test']:\n",
        "        test[k].append(intent.copy())\n",
        "\n",
        "      train[k] = pd.concat(train[k])\n",
        "      test[k] = test[k][0]\n",
        "\n",
        "    cv_ind+=1\n",
        "\n",
        "\n",
        "\n",
        "  return train, test\n",
        "\n"
      ]
    },
    {
      "cell_type": "code",
      "execution_count": 100,
      "metadata": {
        "colab": {
          "base_uri": "https://localhost:8080/"
        },
        "id": "UIhwS-aGlw8y",
        "outputId": "e9df2554-6889-4004-baa6-4854afa1c759"
      },
      "outputs": [
        {
          "output_type": "stream",
          "name": "stderr",
          "text": [
            "100%|██████████| 10/10 [00:04<00:00,  2.35it/s]\n"
          ]
        },
        {
          "output_type": "stream",
          "name": "stdout",
          "text": [
            "########################\n",
            "{'train': ['decop'], 'test': ['decop'], 'scenario': 1}\n",
            "0.7615999999999999\n",
            "0.02902137143554729\n",
            "########################\n"
          ]
        },
        {
          "output_type": "stream",
          "name": "stderr",
          "text": [
            "100%|██████████| 10/10 [00:03<00:00,  3.10it/s]\n"
          ]
        },
        {
          "output_type": "stream",
          "name": "stdout",
          "text": [
            "########################\n",
            "{'train': ['hyppocorpus'], 'test': ['hyppocorpus'], 'scenario': 1}\n",
            "0.5757575757575759\n",
            "0.07666127661014253\n",
            "########################\n"
          ]
        },
        {
          "output_type": "stream",
          "name": "stderr",
          "text": [
            "100%|██████████| 10/10 [00:03<00:00,  2.53it/s]\n"
          ]
        },
        {
          "output_type": "stream",
          "name": "stdout",
          "text": [
            "########################\n",
            "{'train': ['intention'], 'test': ['intention'], 'scenario': 1}\n",
            "0.6707317073170732\n",
            "0.03180098734245193\n",
            "########################\n"
          ]
        },
        {
          "output_type": "stream",
          "name": "stderr",
          "text": [
            "100%|██████████| 1/1 [00:01<00:00,  1.19s/it]\n"
          ]
        },
        {
          "output_type": "stream",
          "name": "stdout",
          "text": [
            "########################\n",
            "{'train': ['hyppocorpus', 'intention'], 'test': ['decop'], 'scenario': 2}\n",
            "0.5012\n",
            "0.0\n",
            "########################\n"
          ]
        },
        {
          "output_type": "stream",
          "name": "stderr",
          "text": [
            "100%|██████████| 1/1 [00:01<00:00,  1.40s/it]\n"
          ]
        },
        {
          "output_type": "stream",
          "name": "stdout",
          "text": [
            "########################\n",
            "{'train': ['decop', 'intention'], 'test': ['hyppocorpus'], 'scenario': 2}\n",
            "0.5654761904761905\n",
            "0.0\n",
            "########################\n"
          ]
        },
        {
          "output_type": "stream",
          "name": "stderr",
          "text": [
            "100%|██████████| 1/1 [00:01<00:00,  1.31s/it]\n"
          ]
        },
        {
          "output_type": "stream",
          "name": "stdout",
          "text": [
            "########################\n",
            "{'train': ['decop', 'hyppocorpus'], 'test': ['intention'], 'scenario': 2}\n",
            "0.49573170731707317\n",
            "0.0\n",
            "########################\n"
          ]
        },
        {
          "output_type": "stream",
          "name": "stderr",
          "text": [
            "100%|██████████| 10/10 [00:13<00:00,  1.37s/it]"
          ]
        },
        {
          "output_type": "stream",
          "name": "stdout",
          "text": [
            "########################\n",
            "{'train': ['decop', 'hyppocorpus', 'intention'], 'test': ['decop', 'hyppocorpus', 'intention'], 'scenario': 3}\n",
            "0.6885906040268457\n",
            "0.02254518601761813\n",
            "########################\n"
          ]
        },
        {
          "output_type": "stream",
          "name": "stderr",
          "text": [
            "\n"
          ]
        }
      ],
      "source": [
        "seed=42\n",
        "np.random.seed(seed)\n",
        "collect_result={}\n",
        "\n",
        "results={}\n",
        "types={}\n",
        "preds={}\n",
        "trus={}\n",
        "scenarios = [{'train': ['decop'], 'test': ['decop'],  'scenario': 1},\n",
        "             {'train': ['hyppocorpus'], 'test': ['hyppocorpus'],  'scenario': 1},\n",
        "             {'train': ['intention'], 'test': ['intention'],  'scenario': 1},\n",
        "             {'train': ['hyppocorpus', 'intention'], 'test': ['decop'],  'scenario': 2},\n",
        "             {'train': ['decop', 'intention'], 'test': ['hyppocorpus'],  'scenario': 2},\n",
        "             {'train': ['decop', 'hyppocorpus'], 'test': ['intention'],  'scenario': 2},\n",
        "             {'train': ['decop', 'hyppocorpus', 'intention'], 'test': ['decop', 'hyppocorpus', 'intention'],  'scenario': 3}\n",
        "             ]\n",
        "for scen in scenarios:\n",
        "  if scen['scenario']==2:\n",
        "    numcv=1\n",
        "  else:\n",
        "    numcv=10\n",
        "  training, test = create_dataset(scen, decop=decop, mem=mem, intent=intent, seed=seed, cv=numcv)\n",
        "  i =0\n",
        "  accuracy = []\n",
        "  for sp in tqdm(training.keys()):\n",
        "    with warnings.catch_warnings():\n",
        "      warnings.simplefilter(\"ignore\")\n",
        "      training[sp]['labels'] = training[sp]['labels'].map({'F':1, 'T':0})\n",
        "      test[sp]['labels'] = test[sp]['labels'].map({'F':1, 'T':0})\n",
        "\n",
        "      training[sp] = training[sp].drop('type', axis=1)\n",
        "      test[sp] = test[sp].drop('type', axis=1)\n",
        "\n",
        "      if i==0:\n",
        "        full_data = pd.concat([training[sp], test[sp]])\n",
        "        i=1\n",
        "      vectorizer = CountVectorizer()\n",
        "      bag = vectorizer.fit(full_data['sent'].to_list())\n",
        "\n",
        "      x_train = bag.transform(training[sp]['sent'].to_list())\n",
        "      x_test = bag.transform(test[sp]['sent'].to_list())\n",
        "\n",
        "      y_train = training[sp]['labels']\n",
        "      y_test = test[sp]['labels']\n",
        "\n",
        "      lr = LogisticRegression()\n",
        "\n",
        "      lr.fit(x_train, y_train)\n",
        "\n",
        "      pred = lr.predict(x_test)\n",
        "\n",
        "      accuracy.append((pred==y_test).mean())\n",
        "  print('########################')\n",
        "  print(scen)\n",
        "  print(np.array(accuracy).mean())\n",
        "  print(np.array(accuracy).std())\n",
        "  print('########################')\n",
        ""
      ]
    },
    {
      "cell_type": "code",
      "source": [],
      "metadata": {
        "id": "qHgxg8rN8-SW"
      },
      "execution_count": null,
      "outputs": []
    }
  ],
  "metadata": {
    "accelerator": "GPU",
    "colab": {
      "machine_shape": "hm",
      "provenance": []
    },
    "kernelspec": {
      "display_name": "Python 3",
      "name": "python3"
    },
    "language_info": {
      "codemirror_mode": {
        "name": "ipython",
        "version": 3
      },
      "file_extension": ".py",
      "mimetype": "text/x-python",
      "name": "python",
      "nbconvert_exporter": "python",
      "pygments_lexer": "ipython3",
      "version": "3.8.5"
    }
  },
  "nbformat": 4,
  "nbformat_minor": 0
}